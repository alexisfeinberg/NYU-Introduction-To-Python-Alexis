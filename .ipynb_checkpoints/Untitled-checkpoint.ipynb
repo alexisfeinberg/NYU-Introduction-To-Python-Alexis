{
 "cells": [
  {
   "cell_type": "code",
   "execution_count": 1,
   "metadata": {},
   "outputs": [],
   "source": [
    "import random\n",
    "min = 2\n",
    "max = 12\n",
    "maxroll = 15\n",
    "maxboard = 40\n",
    "player = 0\n",
    "roll_number = 0"
   ]
  },
  {
   "cell_type": "code",
   "execution_count": 2,
   "metadata": {},
   "outputs": [],
   "source": [
    "def roll_dice():\n",
    "    global roll_number\n",
    "    roll = random.randint(min, max)   \n",
    "    roll_number += 1\n",
    "    return roll"
   ]
  },
  {
   "cell_type": "code",
   "execution_count": 3,
   "metadata": {},
   "outputs": [],
   "source": [
    "def roll_logic(roll):\n",
    "    if roll > 2 and roll <= 11:\n",
    "        print('You rolled a: {}'.format(roll))\n",
    "        return roll   \n",
    "    elif roll == 12:\n",
    "        print(\"You have to fight!\")\n",
    "        return roll\n",
    "    elif roll == 2:\n",
    "        print(\n",
    "            'You rolled a 2! You were attacked and eaten by zombie beavers'\n",
    "            \"That's too bad!\")\n",
    "        return 0"
   ]
  },
  {
   "cell_type": "code",
   "execution_count": 4,
   "metadata": {},
   "outputs": [
    {
     "name": "stdout",
     "output_type": "stream",
     "text": [
      "You rolled a: 11\n"
     ]
    }
   ],
   "source": [
    "def move_player(roll, roll_number):\n",
    "    global player\n",
    "    keepgoing = True\n",
    "    while keepgoing:\n",
    "        player +=\n",
    "        keepgoing = (roll_number < maxroll) and (player < maxboard)\n",
    "        print('You are on board position {} and you have {} spaces to go'.format(player, maxboard-player))\n",
    "# negatives possible which is a bug!\n",
    "\n",
    "\n",
    "def main():\n",
    "    #answerq = script()\n",
    "    #question(answer=answerq)\n",
    "    #answerq = script2()\n",
    "    #question(answer=answerq)\n",
    "    roll2=roll_dice()\n",
    "    roll_logic(roll=roll2)\n",
    "\n",
    "if __name__ == '__main__':\n",
    "    main()"
   ]
  }
 ],
 "metadata": {
  "kernelspec": {
   "display_name": "Python 3",
   "language": "python",
   "name": "python3"
  },
  "language_info": {
   "codemirror_mode": {
    "name": "ipython",
    "version": 3
   },
   "file_extension": ".py",
   "mimetype": "text/x-python",
   "name": "python",
   "nbconvert_exporter": "python",
   "pygments_lexer": "ipython3",
   "version": "3.6.0"
  }
 },
 "nbformat": 4,
 "nbformat_minor": 2
}
